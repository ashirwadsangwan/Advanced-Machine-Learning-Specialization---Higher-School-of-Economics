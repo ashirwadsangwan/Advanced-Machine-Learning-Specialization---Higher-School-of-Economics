{
  "nbformat": 4,
  "nbformat_minor": 0,
  "metadata": {
    "colab": {
      "name": "Intro to Tensorflow : HSE",
      "version": "0.3.2",
      "provenance": [],
      "include_colab_link": true
    },
    "kernelspec": {
      "name": "python3",
      "display_name": "Python 3"
    },
    "accelerator": "GPU"
  },
  "cells": [
    {
      "cell_type": "markdown",
      "metadata": {
        "id": "view-in-github",
        "colab_type": "text"
      },
      "source": [
        "<a href=\"https://colab.research.google.com/github/ashirwadsangwan/Advanced-Machine-Learning-Specialization---Higher-School-of-Economics/blob/master/Intro_to_Tensorflow_HSE.ipynb\" target=\"_parent\"><img src=\"https://colab.research.google.com/assets/colab-badge.svg\" alt=\"Open In Colab\"/></a>"
      ]
    },
    {
      "metadata": {
        "id": "9rH4dCLI-3MK",
        "colab_type": "code",
        "colab": {}
      },
      "cell_type": "code",
      "source": [
        "import numpy as np, pandas as pd"
      ],
      "execution_count": 0,
      "outputs": []
    },
    {
      "metadata": {
        "id": "Kw69OGX5_eXM",
        "colab_type": "code",
        "outputId": "10db3a01-e494-43e6-e20d-8d8eb05dc5db",
        "colab": {
          "base_uri": "https://localhost:8080/",
          "height": 34
        }
      },
      "cell_type": "code",
      "source": [
        "vector1 = np.array((1,-2,0.5))\n",
        "vector1[0]"
      ],
      "execution_count": 0,
      "outputs": [
        {
          "output_type": "execute_result",
          "data": {
            "text/plain": [
              "1.0"
            ]
          },
          "metadata": {
            "tags": []
          },
          "execution_count": 3
        }
      ]
    },
    {
      "metadata": {
        "id": "lr8H-MF4_BEc",
        "colab_type": "code",
        "colab": {}
      },
      "cell_type": "code",
      "source": [
        "def softmax(vector):\n",
        "  class_score = []\n",
        "  denom = 0\n",
        "  for i in vector:\n",
        "      denom += np.exp(i)\n",
        "  print('The denom is {}'.format(denom))  \n",
        "  print('..............')\n",
        "  \n",
        "  for j in vector:\n",
        "    score = np.exp(j)/ denom\n",
        "    class_score.append(score)\n",
        "    \n",
        "  return class_score\n",
        "  "
      ],
      "execution_count": 0,
      "outputs": []
    },
    {
      "metadata": {
        "id": "hn182ZAUBowD",
        "colab_type": "code",
        "outputId": "159f7f59-d297-4c1c-ae93-57940bd178e7",
        "colab": {
          "base_uri": "https://localhost:8080/",
          "height": 102
        }
      },
      "cell_type": "code",
      "source": [
        "%%time\n",
        "softmax(vector1)"
      ],
      "execution_count": 0,
      "outputs": [
        {
          "output_type": "stream",
          "text": [
            "The denom is 4.502338382395786\n",
            "..............\n",
            "CPU times: user 1.21 ms, sys: 50 µs, total: 1.26 ms\n",
            "Wall time: 925 µs\n"
          ],
          "name": "stdout"
        },
        {
          "output_type": "execute_result",
          "data": {
            "text/plain": [
              "[0.6037488961486257, 0.030058887569574023, 0.3661922162818002]"
            ]
          },
          "metadata": {
            "tags": []
          },
          "execution_count": 7
        }
      ]
    },
    {
      "metadata": {
        "id": "53zcKs95BrST",
        "colab_type": "code",
        "colab": {}
      },
      "cell_type": "code",
      "source": [
        "def softmax_vectorized(vector):\n",
        "  class_score = np.exp(vector)/np.sum(np.exp(vector))\n",
        "  return class_score"
      ],
      "execution_count": 0,
      "outputs": []
    },
    {
      "metadata": {
        "id": "nuK4KEu87ZDV",
        "colab_type": "code",
        "outputId": "7a4e5e7c-e754-409e-d87b-5b8095100207",
        "colab": {
          "base_uri": "https://localhost:8080/",
          "height": 68
        }
      },
      "cell_type": "code",
      "source": [
        "%%time\n",
        "softmax_vectorized(vector1)"
      ],
      "execution_count": 0,
      "outputs": [
        {
          "output_type": "stream",
          "text": [
            "CPU times: user 173 µs, sys: 0 ns, total: 173 µs\n",
            "Wall time: 182 µs\n"
          ],
          "name": "stdout"
        },
        {
          "output_type": "execute_result",
          "data": {
            "text/plain": [
              "array([0.6037489 , 0.03005889, 0.36619222])"
            ]
          },
          "metadata": {
            "tags": []
          },
          "execution_count": 8
        }
      ]
    },
    {
      "metadata": {
        "id": "gSGxHlE_77MG",
        "colab_type": "text"
      },
      "cell_type": "markdown",
      "source": [
        "### So we can see that vectorized version of softmax function in way faster than the one with loops"
      ]
    },
    {
      "metadata": {
        "id": "2iac01k68LeP",
        "colab_type": "text"
      },
      "cell_type": "markdown",
      "source": [
        "# Tensorflow\n",
        "optimizers in  tensorflow"
      ]
    },
    {
      "metadata": {
        "id": "U6IrKhqc7qTB",
        "colab_type": "code",
        "colab": {}
      },
      "cell_type": "code",
      "source": [
        "import numpy as np\n",
        "import tensorflow as tf"
      ],
      "execution_count": 0,
      "outputs": []
    },
    {
      "metadata": {
        "id": "FGyLZFEm7wtL",
        "colab_type": "code",
        "outputId": "139e1944-366c-4f12-8b96-781c4c60a911",
        "colab": {
          "base_uri": "https://localhost:8080/",
          "height": 88
        }
      },
      "cell_type": "code",
      "source": [
        "tf.reset_default_graph()\n",
        "x = tf.get_variable(\"x\", shape = (), dtype = tf.float32)\n",
        "f = x**2"
      ],
      "execution_count": 0,
      "outputs": [
        {
          "output_type": "stream",
          "text": [
            "WARNING:tensorflow:From /usr/local/lib/python3.6/dist-packages/tensorflow/python/framework/op_def_library.py:263: colocate_with (from tensorflow.python.framework.ops) is deprecated and will be removed in a future version.\n",
            "Instructions for updating:\n",
            "Colocations handled automatically by placer.\n"
          ],
          "name": "stdout"
        }
      ]
    },
    {
      "metadata": {
        "id": "TdPoCIk19C-D",
        "colab_type": "text"
      },
      "cell_type": "markdown",
      "source": [
        "#### We want to minimize the value of 'f' w.r.t. x"
      ]
    },
    {
      "metadata": {
        "id": "2kS-tlER8_4X",
        "colab_type": "code",
        "colab": {}
      },
      "cell_type": "code",
      "source": [
        "optimizer = tf.train.GradientDescentOptimizer(0.1) # 0.1 is the learning rate\n",
        "step = optimizer.minimize(f, var_list = [x]) # optimizer.minimize(f) would also work fine."
      ],
      "execution_count": 0,
      "outputs": []
    },
    {
      "metadata": {
        "id": "txykp_QH9pnV",
        "colab_type": "text"
      },
      "cell_type": "markdown",
      "source": [
        "In the code above we can omit the name var_list because in its graph tensorflow already knows what variables it needs to optimize x. Because all varibales are trainable by default.\n",
        "You can change it with the command # trainable =True and it means it won't be updated during the backpropagation."
      ]
    },
    {
      "metadata": {
        "id": "FQZVJcHv-elT",
        "colab_type": "text"
      },
      "cell_type": "markdown",
      "source": [
        "You can call all the trainable variables by the command tf.trainable_variables()"
      ]
    },
    {
      "metadata": {
        "id": "fbmC5WAV-vtc",
        "colab_type": "text"
      },
      "cell_type": "markdown",
      "source": [
        "### Making gradient descent steps\n",
        "\n",
        "Now we need to create a session and initialize variables:\n"
      ]
    },
    {
      "metadata": {
        "id": "ZhObqinR9BUG",
        "colab_type": "code",
        "outputId": "25b638e8-821a-4fbe-a908-43bfb010366c",
        "colab": {
          "base_uri": "https://localhost:8080/",
          "height": 71
        }
      },
      "cell_type": "code",
      "source": [
        "s = tf.InteractiveSession()\n",
        "s.run(tf.global_variables_initializer())"
      ],
      "execution_count": 0,
      "outputs": [
        {
          "output_type": "stream",
          "text": [
            "/usr/local/lib/python3.6/dist-packages/tensorflow/python/client/session.py:1702: UserWarning: An interactive session is already active. This can cause out-of-memory errors in some cases. You must explicitly call `InteractiveSession.close()` to release resources held by the other session(s).\n",
            "  warnings.warn('An interactive session is already active. This can '\n"
          ],
          "name": "stderr"
        }
      ]
    },
    {
      "metadata": {
        "id": "F5FcQQpL_ZOz",
        "colab_type": "text"
      },
      "cell_type": "markdown",
      "source": [
        "Now we are ready to make 10 Gradient Descent steps"
      ]
    },
    {
      "metadata": {
        "id": "FDxnOSN2_VG5",
        "colab_type": "code",
        "outputId": "96c1be3d-d886-43be-c172-1cf67722e995",
        "colab": {
          "base_uri": "https://localhost:8080/",
          "height": 187
        }
      },
      "cell_type": "code",
      "source": [
        "for i in range(10):\n",
        "  _, curr_x, curr_f = s.run([step, x, f])\n",
        "  print(curr_x, curr_f)"
      ],
      "execution_count": 0,
      "outputs": [
        {
          "output_type": "stream",
          "text": [
            "0.5774406 0.33343768\n",
            "0.369562 0.21340013\n",
            "0.2956496 0.13657606\n",
            "0.2956496 0.08740867\n",
            "0.23651966 0.05594155\n",
            "0.18921573 0.03580259\n",
            "0.12109808 0.022913665\n",
            "0.09687846 0.014664745\n",
            "0.07750277 0.009385436\n",
            "0.07750277 0.0060066795\n"
          ],
          "name": "stdout"
        }
      ]
    },
    {
      "metadata": {
        "id": "key88B1bAf1e",
        "colab_type": "text"
      },
      "cell_type": "markdown",
      "source": [
        "#### To get a synchronised output we'll to do the following thing.\n",
        "We can evaluate tensors and print it like we did in last column or we can pass the tensor of our interest through tf.print function.\n"
      ]
    },
    {
      "metadata": {
        "id": "xz0YkKO5pZUy",
        "colab_type": "text"
      },
      "cell_type": "markdown",
      "source": [
        "### Solving Linear Regression in Tensorflow"
      ]
    },
    {
      "metadata": {
        "id": "9aqB5KZQ_ux1",
        "colab_type": "code",
        "colab": {}
      },
      "cell_type": "code",
      "source": [
        "N = 1000\n",
        "D = 3\n",
        "x = np.random.randn(N,D)\n",
        "w = np.random.randn(D,1)\n",
        "y = x@w + np.random.randn(N,1)*0.20"
      ],
      "execution_count": 0,
      "outputs": []
    },
    {
      "metadata": {
        "id": "7CbYOOjTqB3N",
        "colab_type": "text"
      },
      "cell_type": "markdown",
      "source": [
        "We'll need placeholders fro input data."
      ]
    },
    {
      "metadata": {
        "id": "4sgRo1_ap5Tm",
        "colab_type": "code",
        "colab": {}
      },
      "cell_type": "code",
      "source": [
        "tf.reset_default_graph()\n",
        "features = tf.placeholder(tf.float32, shape = (None, D))\n",
        "target = tf.placeholder(tf.float32, shape = (None, 1))"
      ],
      "execution_count": 0,
      "outputs": []
    },
    {
      "metadata": {
        "id": "qXULInPRqerX",
        "colab_type": "text"
      },
      "cell_type": "markdown",
      "source": [
        "This is how we make predictions:\n"
      ]
    },
    {
      "metadata": {
        "id": "XTWoa_PEqY1K",
        "colab_type": "code",
        "colab": {}
      },
      "cell_type": "code",
      "source": [
        "weights = tf.get_variable('w', shape = (D, 1), dtype = tf.float32)\n",
        "predictions = features @ weights"
      ],
      "execution_count": 0,
      "outputs": []
    },
    {
      "metadata": {
        "id": "vRhA4R6yrU_g",
        "colab_type": "text"
      },
      "cell_type": "markdown",
      "source": [
        "To optimize our parameters we'll have to define a loss function."
      ]
    },
    {
      "metadata": {
        "id": "7XjAclpHq02k",
        "colab_type": "code",
        "colab": {}
      },
      "cell_type": "code",
      "source": [
        "loss = tf.reduce_mean((target - predictions)**2)"
      ],
      "execution_count": 0,
      "outputs": []
    },
    {
      "metadata": {
        "id": "5X3eP088rkGa",
        "colab_type": "code",
        "colab": {}
      },
      "cell_type": "code",
      "source": [
        "optimizer = tf.train.GradientDescentOptimizer(0.1)\n",
        "step = optimizer.minimize(loss)"
      ],
      "execution_count": 0,
      "outputs": []
    },
    {
      "metadata": {
        "id": "62u3ypBIsU4j",
        "colab_type": "text"
      },
      "cell_type": "markdown",
      "source": [
        "Gradient Descent:"
      ]
    },
    {
      "metadata": {
        "id": "MmOD4Velruqx",
        "colab_type": "code",
        "colab": {
          "base_uri": "https://localhost:8080/",
          "height": 173
        },
        "outputId": "2801796f-d2c5-40d4-ba7f-56789cb852a6"
      },
      "cell_type": "code",
      "source": [
        "s = tf.InteractiveSession()\n",
        "s.run(tf.global_variables_initializer())\n",
        "\n",
        "for i in range(300):\n",
        "  _, curr_loss, curr_weights = s.run([step, loss, weights], feed_dict = {features: x, target: y})\n",
        "  \n",
        "  if i % 50 ==0:\n",
        "    print(curr_loss)"
      ],
      "execution_count": 16,
      "outputs": [
        {
          "output_type": "stream",
          "text": [
            "/usr/local/lib/python3.6/dist-packages/tensorflow/python/client/session.py:1702: UserWarning: An interactive session is already active. This can cause out-of-memory errors in some cases. You must explicitly call `InteractiveSession.close()` to release resources held by the other session(s).\n",
            "  warnings.warn('An interactive session is already active. This can '\n"
          ],
          "name": "stderr"
        },
        {
          "output_type": "stream",
          "text": [
            "4.219371\n",
            "0.03942813\n",
            "0.039428122\n",
            "0.039428122\n",
            "0.039428122\n",
            "0.039428122\n"
          ],
          "name": "stdout"
        }
      ]
    },
    {
      "metadata": {
        "id": "91caKc8CtQJb",
        "colab_type": "code",
        "colab": {}
      },
      "cell_type": "code",
      "source": [
        ""
      ],
      "execution_count": 0,
      "outputs": []
    }
  ]
}
